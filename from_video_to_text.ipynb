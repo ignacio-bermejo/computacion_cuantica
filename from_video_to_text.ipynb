{
  "cells": [
    {
      "cell_type": "markdown",
      "metadata": {
        "id": "view-in-github",
        "colab_type": "text"
      },
      "source": [
        "<a href=\"https://colab.research.google.com/github/ignacio-bermejo/computacion_cuantica/blob/main/from_video_to_text.ipynb\" target=\"_parent\"><img src=\"https://colab.research.google.com/assets/colab-badge.svg\" alt=\"Open In Colab\"/></a>"
      ]
    },
    {
      "cell_type": "code",
      "source": [
        "!pip install SpeechRecognition\n",
        "!pip install ffmpeg-python"
      ],
      "metadata": {
        "id": "4lc9bOcW-BHR",
        "outputId": "77ff9b44-9518-4f42-e3b9-5159c83d03a7",
        "colab": {
          "base_uri": "https://localhost:8080/"
        }
      },
      "execution_count": 42,
      "outputs": [
        {
          "output_type": "stream",
          "name": "stdout",
          "text": [
            "Requirement already satisfied: SpeechRecognition in /usr/local/lib/python3.7/dist-packages (3.8.1)\n",
            "Collecting ffmpeg-python\n",
            "  Downloading ffmpeg_python-0.2.0-py3-none-any.whl (25 kB)\n",
            "Requirement already satisfied: future in /usr/local/lib/python3.7/dist-packages (from ffmpeg-python) (0.16.0)\n",
            "Installing collected packages: ffmpeg-python\n",
            "Successfully installed ffmpeg-python-0.2.0\n"
          ]
        }
      ]
    },
    {
      "cell_type": "code",
      "source": [
        "import os\n",
        "import speech_recognition as sr\n",
        "import ffmpeg"
      ],
      "metadata": {
        "id": "uEudsxlK_TuN"
      },
      "execution_count": 44,
      "outputs": []
    },
    {
      "cell_type": "code",
      "source": [
        "#CONVERTIR A MP4\n",
        "command2mp3 = \"ffmpeg -i speech.mp4 speech.mp3\""
      ],
      "metadata": {
        "id": "PzMa2Lja_jWF"
      },
      "execution_count": 45,
      "outputs": []
    },
    {
      "cell_type": "code",
      "source": [
        "#CONVERTIR A MP3\n",
        "command2wav = \"ffmpeg -i speech.mp3 speech.wav\""
      ],
      "metadata": {
        "id": "s2ZHNgwa_oeY"
      },
      "execution_count": 46,
      "outputs": []
    },
    {
      "cell_type": "code",
      "source": [
        "os.system(command2mp3)\n",
        "os.system(command2wav)"
      ],
      "metadata": {
        "id": "Umw5a7tF_vgx",
        "outputId": "f777db07-1259-403f-d68c-02d349d71875",
        "colab": {
          "base_uri": "https://localhost:8080/"
        }
      },
      "execution_count": 47,
      "outputs": [
        {
          "output_type": "execute_result",
          "data": {
            "text/plain": [
              "256"
            ]
          },
          "metadata": {},
          "execution_count": 47
        }
      ]
    },
    {
      "cell_type": "code",
      "source": [
        "#Final Step: Loading and processing the .wav file\n",
        "r = sr.Recognizer()\n",
        "with sr.AudioFile(‘speech.wav’) as source:\n",
        "     audio = r.record(source, duration=120) \n",
        "print(r.recognize_google(audio))"
      ],
      "metadata": {
        "id": "wgJMlycr_zfG",
        "outputId": "cc162227-c565-4df7-e80c-f2bbbd0b0e28",
        "colab": {
          "base_uri": "https://localhost:8080/",
          "height": 131
        }
      },
      "execution_count": 48,
      "outputs": [
        {
          "output_type": "error",
          "ename": "SyntaxError",
          "evalue": "ignored",
          "traceback": [
            "\u001b[0;36m  File \u001b[0;32m\"<ipython-input-48-efb7aafb28f9>\"\u001b[0;36m, line \u001b[0;32m3\u001b[0m\n\u001b[0;31m    with sr.AudioFile(‘speech.wav’) as source:\u001b[0m\n\u001b[0m                            ^\u001b[0m\n\u001b[0;31mSyntaxError\u001b[0m\u001b[0;31m:\u001b[0m invalid character in identifier\n"
          ]
        }
      ]
    }
  ],
  "metadata": {
    "colab": {
      "collapsed_sections": [],
      "name": "Te damos la bienvenida a Colaboratory",
      "provenance": [],
      "include_colab_link": true
    },
    "kernelspec": {
      "display_name": "Python 3",
      "name": "python3"
    }
  },
  "nbformat": 4,
  "nbformat_minor": 0
}